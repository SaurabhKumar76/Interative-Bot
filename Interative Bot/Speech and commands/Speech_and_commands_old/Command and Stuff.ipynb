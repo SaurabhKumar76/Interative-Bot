{
 "cells": [
  {
   "cell_type": "code",
   "execution_count": null,
   "metadata": {},
   "outputs": [],
   "source": [
    "import speech_recognition as sr\n",
    "#import pocketsphinx"
   ]
  },
  {
   "cell_type": "code",
   "execution_count": null,
   "metadata": {},
   "outputs": [],
   "source": [
    "import os\n",
    "import pyaudio\n",
    "import urllib\n",
    "import pyttsx3\n",
    "from nltk.corpus import wordnet as wn"
   ]
  },
  {
   "cell_type": "code",
   "execution_count": null,
   "metadata": {},
   "outputs": [],
   "source": [
    "# object detection imports\n",
    "import numpy as np\n",
    "import os\n",
    "import six.moves.urllib as urllib\n",
    "import sys\n",
    "import tarfile\n",
    "import tensorflow as tf\n",
    "import zipfile\n",
    "\n",
    "from collections import defaultdict\n",
    "from io import StringIO\n",
    "import cv2"
   ]
  },
  {
   "cell_type": "code",
   "execution_count": null,
   "metadata": {},
   "outputs": [],
   "source": [
    "speech = pyttsx3.init()"
   ]
  },
  {
   "cell_type": "code",
   "execution_count": null,
   "metadata": {},
   "outputs": [],
   "source": [
    "r = sr.Recognizer()\n",
    "print(\"What do you want me to do ?\")\n",
    "speech.stop()\n",
    "speech.say(\"What do you want me to do ?\")\n",
    "speech.runAndWait()\n",
    "with sr.Microphone() as source:\n",
    "    audio = r.listen(source)"
   ]
  },
  {
   "cell_type": "code",
   "execution_count": null,
   "metadata": {},
   "outputs": [],
   "source": [
    "'''\n",
    "try:\n",
    "    command =  r.recognize_sphinx(audio)\n",
    "    print(command)\n",
    "except sr.UnknownValueError:\n",
    "    print(\"Sphinx could not understand audio\")\n",
    "except sr.RequestError as e:\n",
    "    print(e)\n",
    "'''"
   ]
  },
  {
   "cell_type": "code",
   "execution_count": null,
   "metadata": {},
   "outputs": [],
   "source": [
    "try:\n",
    "    command =  r.recognize_google(audio)\n",
    "    print(command)\n",
    "except sr.UnknownValueError:\n",
    "    print(\"Google could not understand audio\")\n",
    "except sr.RequestError as e:\n",
    "    print(e)"
   ]
  },
  {
   "cell_type": "code",
   "execution_count": null,
   "metadata": {},
   "outputs": [],
   "source": [
    "import nltk\n",
    "from nltk.stem import PorterStemmer, WordNetLemmatizer\n",
    "from nltk.tokenize import word_tokenize"
   ]
  },
  {
   "cell_type": "code",
   "execution_count": null,
   "metadata": {},
   "outputs": [],
   "source": [
    "try:\n",
    "    words = word_tokenize(command)\n",
    "except NameError:\n",
    "    speech.stop()\n",
    "    speech.say('Sorry, I didn\\'t get that')\n",
    "    speech.runAndWait()\n",
    "words"
   ]
  },
  {
   "cell_type": "code",
   "execution_count": null,
   "metadata": {},
   "outputs": [],
   "source": [
    "from nltk.corpus import stopwords\n",
    "import string\n",
    "stopwords = set(stopwords.words('english'))\n",
    "wordscleaned = []\n",
    "for w in words:\n",
    "    if w not in stopwords and w not in string.punctuation:\n",
    "        wordscleaned.append(w)\n",
    "words = wordscleaned\n",
    "words"
   ]
  },
  {
   "cell_type": "code",
   "execution_count": null,
   "metadata": {},
   "outputs": [],
   "source": [
    "if nltk.pos_tag([words[0]])[0][1] in ['VB', 'VBD', 'VBG', 'VBN', 'VBP', 'VBZ', 'MD']:\n",
    "    question = True\n",
    "else:\n",
    "    question = False\n",
    "print(\"question = \" + str(question))"
   ]
  },
  {
   "cell_type": "code",
   "execution_count": null,
   "metadata": {},
   "outputs": [],
   "source": [
    "ps = PorterStemmer()\n",
    "wnl = WordNetLemmatizer()\n",
    "wordsStemmed = []\n",
    "for w in words:\n",
    "    wordsStemmed.append(wnl.lemmatize(w) if wnl.lemmatize(w).endswith('e') else ps.stem(w))\n",
    "words = wordsStemmed\n",
    "words"
   ]
  },
  {
   "cell_type": "code",
   "execution_count": null,
   "metadata": {},
   "outputs": [],
   "source": [
    "# synonyms of find, get, fetch\n",
    "find = []\n",
    "findsyn = wn.synsets('find')\n",
    "getsyn = wn.synsets('get')\n",
    "fetchsyn = wn.synsets('fetch')\n",
    "for x in findsyn + getsyn + fetchsyn:\n",
    "    find.append(x.name()[:-5])\n",
    "find = list(set(find))"
   ]
  },
  {
   "cell_type": "code",
   "execution_count": null,
   "metadata": {},
   "outputs": [],
   "source": [
    "if any(x in words for x in find):\n",
    "    find = True\n",
    "else:\n",
    "    find = False\n",
    "print(\"find = \" + str(find) )"
   ]
  },
  {
   "cell_type": "code",
   "execution_count": null,
   "metadata": {},
   "outputs": [],
   "source": [
    "if find == True:\n",
    "    speech.stop()\n",
    "    speech.say(\"For sure !\")\n",
    "    speech.runAndWait()\n",
    "else:\n",
    "    exit()"
   ]
  },
  {
   "cell_type": "code",
   "execution_count": null,
   "metadata": {},
   "outputs": [],
   "source": [
    "words = nltk.pos_tag(words)\n",
    "words"
   ]
  },
  {
   "cell_type": "code",
   "execution_count": null,
   "metadata": {},
   "outputs": [],
   "source": [
    "nouns = []\n",
    "verbs = []\n",
    "pronouns = []\n",
    "adjectives = []"
   ]
  },
  {
   "cell_type": "code",
   "execution_count": null,
   "metadata": {},
   "outputs": [],
   "source": [
    "for i,w in enumerate(words):\n",
    "    if w[0] == 'bottle':\n",
    "        words[i-1] = ('bottle', 'NN')\n",
    "        nouns.append('bottle')\n",
    "    if w[1] in ['NN', 'NNS']:\n",
    "        nouns.append(w[0])\n",
    "nouns"
   ]
  },
  {
   "cell_type": "code",
   "execution_count": null,
   "metadata": {},
   "outputs": [],
   "source": [
    "nounsconcat = []\n",
    "for x in nouns:\n",
    "    for y in nouns:\n",
    "        nounsconcat.append(x+y)\n",
    "nounsconcat = list(set(nounsconcat))\n",
    "nouns = nouns + nounsconcat\n",
    "nouns"
   ]
  },
  {
   "cell_type": "code",
   "execution_count": null,
   "metadata": {},
   "outputs": [],
   "source": [
    "import pickle\n",
    "labelsdict = pickle.load(open('objectlabels.p', 'rb'))\n",
    "labels = []\n",
    "for x in labelsdict:\n",
    "    labels.append(labelsdict[x])\n",
    "classesdict = {}\n",
    "for x in labelsdict:\n",
    "    classesdict[labelsdict[x]] = x"
   ]
  },
  {
   "cell_type": "code",
   "execution_count": null,
   "metadata": {},
   "outputs": [],
   "source": [
    "nouns2 = []\n",
    "for n in nouns:\n",
    "    synset = wn.synsets(n)\n",
    "    for x in synset:\n",
    "        nouns2.append(x.name()[:-5])\n",
    "nouns.extend(nouns2)\n",
    "nouns = list(set(nouns))\n",
    "nouns"
   ]
  },
  {
   "cell_type": "code",
   "execution_count": null,
   "metadata": {},
   "outputs": [],
   "source": [
    "labelsnospace = []\n",
    "for x in labels:\n",
    "    labelsnospace.append(x.replace(\" \", \"\"))"
   ]
  },
  {
   "cell_type": "code",
   "execution_count": null,
   "metadata": {
    "scrolled": false
   },
   "outputs": [],
   "source": [
    "searchlabels = []\n",
    "for i,x in enumerate(labelsnospace):\n",
    "    if x in nouns:\n",
    "        searchlabels.append(labels[i])\n",
    "print(searchlabels)\n",
    "searchclasses = []\n",
    "for x in searchlabels:\n",
    "    searchclasses.append(classesdict[x])\n",
    "print(searchclasses)"
   ]
  },
  {
   "cell_type": "code",
   "execution_count": null,
   "metadata": {},
   "outputs": [],
   "source": [
    "if len(searchclasses) == 0:\n",
    "    speech.stop()\n",
    "    speech.say(\"Sorry, I can't find that.\")\n",
    "    speech.runAndWait()\n",
    "    exit()"
   ]
  },
  {
   "cell_type": "markdown",
   "metadata": {},
   "source": [
    "Object detection"
   ]
  },
  {
   "cell_type": "code",
   "execution_count": null,
   "metadata": {
    "scrolled": true
   },
   "outputs": [],
   "source": [
    "import sys\n",
    "sys.path.append('..')\n",
    "sys.path.append('../object_detection')"
   ]
  },
  {
   "cell_type": "code",
   "execution_count": null,
   "metadata": {},
   "outputs": [],
   "source": [
    "from utils import label_map_util\n",
    "from utils import visualization_utils as vis_util"
   ]
  },
  {
   "cell_type": "code",
   "execution_count": null,
   "metadata": {},
   "outputs": [],
   "source": [
    "detection_graph = tf.Graph()\n",
    "with detection_graph.as_default():\n",
    "  od_graph_def = tf.GraphDef()\n",
    "  with tf.gfile.GFile('../object_detection/ssd_mobilenet_v1_coco_11_06_2017/frozen_inference_graph.pb', 'rb') as fid:\n",
    "    serialized_graph = fid.read()\n",
    "    od_graph_def.ParseFromString(serialized_graph)\n",
    "    tf.import_graph_def(od_graph_def, name='')"
   ]
  },
  {
   "cell_type": "code",
   "execution_count": null,
   "metadata": {},
   "outputs": [],
   "source": [
    "label_map = label_map_util.load_labelmap('../object_detection/data/mscoco_label_map.pbtxt')\n",
    "categories = label_map_util.convert_label_map_to_categories(label_map, max_num_classes=90, use_display_name=True)\n",
    "category_index = label_map_util.create_category_index(categories)"
   ]
  },
  {
   "cell_type": "code",
   "execution_count": null,
   "metadata": {},
   "outputs": [],
   "source": [
    "cap = cv2.VideoCapture(0)"
   ]
  },
  {
   "cell_type": "code",
   "execution_count": null,
   "metadata": {},
   "outputs": [],
   "source": [
    "with detection_graph.as_default():\n",
    "  with tf.Session(graph=detection_graph) as sess:\n",
    "    # Definite input and output Tensors for detection_graph\n",
    "    image_tensor = detection_graph.get_tensor_by_name('image_tensor:0')\n",
    "    # Each box represents a part of the image where a particular object was detected.\n",
    "    detection_boxes = detection_graph.get_tensor_by_name('detection_boxes:0')\n",
    "    # Each score represent how level of confidence for each of the objects.\n",
    "    # Score is shown on the result image, together with the class label.\n",
    "    detection_scores = detection_graph.get_tensor_by_name('detection_scores:0')\n",
    "    detection_classes = detection_graph.get_tensor_by_name('detection_classes:0')\n",
    "    num_detections = detection_graph.get_tensor_by_name('num_detections:0')\n",
    "    while True:\n",
    "        image_valid ,image_np = cap.read()\n",
    "        # Expand dimensions since the model expects images to have shape: [1, None, None, 3]\n",
    "        image_np_expanded = np.expand_dims(image_np, axis=0)\n",
    "        # Actual detection.\n",
    "        (boxes, scores, classes, num) = sess.run(\n",
    "          [detection_boxes, detection_scores, detection_classes, num_detections],\n",
    "          feed_dict={image_tensor: image_np_expanded})\n",
    "    \n",
    "        #selecting classes to show\n",
    "        newclasses = []\n",
    "        newboxes = []\n",
    "        newscores = []\n",
    "        num = 0\n",
    "        for i,x in enumerate(classes[0]):\n",
    "            if int(x) in searchclasses:\n",
    "                newclasses.append(x)\n",
    "                newboxes.append(boxes[0][i])\n",
    "                newscores.append(scores[0][i])\n",
    "                num+=1\n",
    "        scores = np.array([newscores], dtype = float)\n",
    "        classes = np.array([newclasses], dtype = float)\n",
    "        boxes = np.array([newboxes], dtype = float)\n",
    "        num = np.array([float(num)], dtype = float)\n",
    "        \n",
    "        # Visualization of the results of a detection.\n",
    "        vis_util.visualize_boxes_and_labels_on_image_array(\n",
    "          image_np,\n",
    "          np.squeeze(boxes),\n",
    "          np.squeeze(classes).astype(np.int32),\n",
    "          np.squeeze(scores),\n",
    "          category_index,\n",
    "          use_normalized_coordinates=True,\n",
    "          line_thickness=8)\n",
    "            \n",
    "        cv2.imshow('image', image_np)\n",
    "        if cv2.waitKey(1) & 0xFF == ord('q'):\n",
    "            break"
   ]
  },
  {
   "cell_type": "code",
   "execution_count": null,
   "metadata": {},
   "outputs": [],
   "source": [
    "cap.release()\n",
    "cv2.destroyAllWindows()"
   ]
  },
  {
   "cell_type": "code",
   "execution_count": null,
   "metadata": {},
   "outputs": [],
   "source": [
    "a = np.array([[1.1,2.1,3.1]])\n",
    "a[0][1][2]"
   ]
  },
  {
   "cell_type": "code",
   "execution_count": null,
   "metadata": {},
   "outputs": [],
   "source": []
  }
 ],
 "metadata": {
  "kernelspec": {
   "display_name": "Python 3",
   "language": "python",
   "name": "python3"
  },
  "language_info": {
   "codemirror_mode": {
    "name": "ipython",
    "version": 3
   },
   "file_extension": ".py",
   "mimetype": "text/x-python",
   "name": "python",
   "nbconvert_exporter": "python",
   "pygments_lexer": "ipython3",
   "version": "3.6.3"
  }
 },
 "nbformat": 4,
 "nbformat_minor": 2
}
