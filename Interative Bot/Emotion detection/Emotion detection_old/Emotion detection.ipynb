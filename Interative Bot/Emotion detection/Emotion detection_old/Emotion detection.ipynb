{
 "cells": [
  {
   "cell_type": "code",
   "execution_count": null,
   "id": "a52596cd",
   "metadata": {},
   "outputs": [],
   "source": [
    "import numpy as np\n",
    "import cv2\n",
    "from keras.models import load_model\n",
    "face_cascade = cv2.CascadeClassifier(\"C:\\Users\\saura\\OneDrive\\Desktop\\Interative Bot\\Emotion detection\\Emotion detection_old\\haarcascade_frontalface_default.xml\")\n",
    "model = load_model(\"C:\\Users\\saura\\OneDrive\\Desktop\\Interative Bot\\Emotion detection\\Emotion detection_old\\fer2013_mini_XCEPTION.102-0.66.hdf5\")\n",
    "\n",
    "\n",
    "labels = {0:'angry',1:'disgust',2:'fear',3:'happy',\n",
    "                4:'sad',5:'surprise',6:'neutral'}\n",
    "cap = cv2.VideoCapture(0)\n",
    "while True:\n",
    "    imagevalid, image = cap.read()\n",
    "    gray = cv2.cvtColor(image, cv2.COLOR_BGR2GRAY)\n",
    "    faces = face_cascade.detectMultiScale(gray, 1.3, 5)\n",
    "    for face in faces:\n",
    "        x, y, w, h = face\n",
    "        face2feed = gray[y:y+h, x:x+w]\n",
    "        face2feed = cv2.resize(face2feed, tuple(model.input_shape[1:3]))\n",
    "        face2feed = face2feed.astype('float32')\n",
    "        face2feed = face2feed / 255.0\n",
    "        face2feed = face2feed - 0.5\n",
    "        face2feed = face2feed * 2.0\n",
    "        face2feed = np.array(face2feed)\n",
    "        face2feed = face2feed.reshape(1, 64, 64, 1)\n",
    "        emotionscores = model.predict(face2feed)\n",
    "        emotionprob = np.max(emotionscores)\n",
    "        emotionindx = np.argmax(emotionscores)\n",
    "        emotion = labels[emotionindx]\n",
    "        if emotion == 'angry':\n",
    "            color = emotionprob * np.array((0, 0, 255))\n",
    "        elif emotion == 'sad':\n",
    "            color = emotionprob * np.array((255, 0, 0))\n",
    "        elif emotion == 'happy':\n",
    "            color = emotionprob * np.array((255, 255, 0))\n",
    "        elif emotion == 'surprise':\n",
    "            color = emotionprob * np.array((0, 255, 255))\n",
    "        else:\n",
    "            color = emotionprob * np.array((0, 255, 0))\n",
    "        cv2.rectangle(image, (x,y), (x+w,y+h), tuple(color), 2)\n",
    "        cv2.putText(image, emotion, (x, y),\n",
    "                cv2.FONT_HERSHEY_SIMPLEX,\n",
    "                1, color, 2, cv2.LINE_AA)\n",
    "    cv2.imshow('Emotion predicted', image)\n",
    "    if cv2.waitKey(1) & 0xFF == ord('q'):\n",
    "        break\n",
    "cap.release()\n",
    "cv2.destroyAllWindows()"
   ]
  }
 ],
 "metadata": {
  "kernelspec": {
   "display_name": "Python 3 (ipykernel)",
   "language": "python",
   "name": "python3"
  },
  "language_info": {
   "codemirror_mode": {
    "name": "ipython",
    "version": 3
   },
   "file_extension": ".py",
   "mimetype": "text/x-python",
   "name": "python",
   "nbconvert_exporter": "python",
   "pygments_lexer": "ipython3",
   "version": "3.9.13"
  }
 },
 "nbformat": 4,
 "nbformat_minor": 5
}
